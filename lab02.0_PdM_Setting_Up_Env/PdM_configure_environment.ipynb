{
 "cells": [
  {
   "cell_type": "markdown",
   "metadata": {},
   "source": [
    "Copyright (c) Microsoft Corporation. All rights reserved.\n",
    "\n",
    "Licensed under the MIT License."
   ]
  },
  {
   "cell_type": "markdown",
   "metadata": {},
   "source": [
    "# Python setup\n",
    "\n",
    "We will install the following Python packages on the DSVM. \n",
    "\n",
    "**Notes**: \n",
    "1. These steps are suggested with the assumption that you are using the kernel `Python [conda env:py36]` for this lab. If you are using a different kernel, please update all references to a conda environment below to the kernel you are using to run this notebook.\n",
    "2. If you cannot install these packages from Jupyter, please SSH (`ssh <username>@<ip.address.of.VM>`) into the DSVM from the command line and run these commands."
   ]
  },
  {
   "cell_type": "code",
   "execution_count": null,
   "metadata": {},
   "outputs": [],
   "source": [
    "%%bash \n",
    "\n",
    "conda install --name py36 seaborn\n",
    "conda install --name py36 -f -c conda-forge jupyter_contrib_nbextensions\n",
    "conda install --name py36 -f -c conda-forge jupyter_nbextensions_configurator"
   ]
  },
  {
   "cell_type": "markdown",
   "metadata": {},
   "source": [
    "### Upgrade your azureml installation\n",
    "\n",
    "Hopefully you won't have to do this. Especially if you are in one of our sessions, you shouldn't have to do this. \n",
    "\n",
    "If you still need to do this, follow the following step:"
   ]
  },
  {
   "cell_type": "code",
   "execution_count": null,
   "metadata": {},
   "outputs": [],
   "source": [
    "%%bash\n",
    "\n",
    "# you might have to uncomment the next line if you get a CommandNotFoundError\n",
    "# . /anaconda/etc/profile.d/conda.sh\n",
    "\n",
    ". /anaconda/etc/profile.d/conda.sh\n",
    "echo \". /anaconda/etc/profile.d/conda.sh\" >> ~/.bashrc\n",
    "\n",
    "conda activate py36 # if you just run activate you get permission denied"
   ]
  },
  {
   "cell_type": "code",
   "execution_count": null,
   "metadata": {},
   "outputs": [],
   "source": [
    "%%bash\n",
    "\n",
    "pip install --upgrade pip\n",
    "pip install --upgrade azureml-sdk[automl,notebooks] # I had to run it twice before it worked"
   ]
  },
  {
   "cell_type": "markdown",
   "metadata": {},
   "source": [
    "# Creating an AML Workspace\n",
    "\n",
    "In this example we create an Azure Machine Learning Workspace and initialize the notebook directory to easily use this workspace.  Typically we only need to run this once per notebook directory, and all other notebooks in this directory or any sub-directories will automatically use the settings indicate here.\n",
    "\n",
    "\n",
    "## Prerequisites:\n",
    "\n",
    "Before running this notebook, we run the `automl_setup` script described in README.md.\n"
   ]
  },
  {
   "cell_type": "markdown",
   "metadata": {},
   "source": [
    "### Connect to your Azure Subscription\n",
    "\n",
    "In order to use an AML Workspace, we first need access to an Azure subscription.\n",
    "\n",
    "We first login to azure and follow prompts to authenticate. Once we authenticate from the browser, we should see a list of subscriptions you have access to."
   ]
  },
  {
   "cell_type": "code",
   "execution_count": null,
   "metadata": {},
   "outputs": [],
   "source": [
    "!az login"
   ]
  },
  {
   "cell_type": "markdown",
   "metadata": {},
   "source": [
    "**Note**: if you get a TypeError (login() got an unexpected keyword argument 'msi'), run the following command in the command line:\n",
    "`sudo -i az extension remove --name azure-ml-admin-cli`"
   ]
  },
  {
   "cell_type": "markdown",
   "metadata": {},
   "source": [
    "We can also list all our available subscriptions, using `-o table` to show results in a clean tabulated format."
   ]
  },
  {
   "cell_type": "code",
   "execution_count": null,
   "metadata": {},
   "outputs": [],
   "source": [
    "!az account list -o table"
   ]
  },
  {
   "cell_type": "markdown",
   "metadata": {},
   "source": [
    "We need to check that your subscription is correct (the one where column called `IsDefault` is set to `True`). If not, we need to change the default subscription using `az account set -s <subscription-id>`."
   ]
  },
  {
   "cell_type": "code",
   "execution_count": null,
   "metadata": {},
   "outputs": [],
   "source": [
    "!az account set -s <SUBSCRIPTION_ID>"
   ]
  },
  {
   "cell_type": "markdown",
   "metadata": {},
   "source": [
    "Let's now confirm that our subscription changed."
   ]
  },
  {
   "cell_type": "code",
   "execution_count": null,
   "metadata": {},
   "outputs": [],
   "source": [
    "!az account show -o table"
   ]
  },
  {
   "cell_type": "markdown",
   "metadata": {},
   "source": [
    "### Register Machine Learning Services Resource Provider\n",
    "\n",
    "This step is required to use the Azure ML services backing the SDK.\n",
    "\n",
    "Note: You may not have to run this, if we provided you with a subscription for the classroom"
   ]
  },
  {
   "cell_type": "code",
   "execution_count": null,
   "metadata": {},
   "outputs": [],
   "source": [
    "# register the new RP\n",
    "!az provider register -n Microsoft.MachineLearningServices -o table"
   ]
  },
  {
   "cell_type": "code",
   "execution_count": null,
   "metadata": {},
   "outputs": [],
   "source": [
    "# check the registration status\n",
    "!az provider show -n Microsoft.MachineLearningServices -o table"
   ]
  },
  {
   "cell_type": "markdown",
   "metadata": {},
   "source": [
    "### Check core SDK version number for validate your installation and for debugging purposes"
   ]
  },
  {
   "cell_type": "code",
   "execution_count": null,
   "metadata": {},
   "outputs": [],
   "source": [
    "import azureml.core\n",
    "\n",
    "print(\"SDK Version:\", azureml.core.VERSION)"
   ]
  },
  {
   "cell_type": "markdown",
   "metadata": {},
   "source": [
    "## Initialize an Azure ML Workspace\n",
    "### What is an Azure ML Workspace and why do I need one?\n",
    "\n",
    "> An AML Workspace is an Azure resource that organaizes and coordinates the actions of many other Azure resources to assist in executing and sharing machine learning workflows.  In particular, an AML Workspace coordinates storage, databases, and compute resources providing added functionality for machine learning experimentation, operationalization, and the monitoring of operationalized models.\n",
    "\n",
    "To create or access an Azure ML Workspace, you will need to import the AML library and specify the following information:\n",
    "- Your subscription id. Use *id* value from *az account show* output above. \n",
    "- The resource group name. Resource group organizes Azure resources and provides default region for the resources in the group. You can either specify a new one, in which case it gets created for your Workspace, or use an existing one or create a new one from [Azure portal](https://portal.azure.com)\n",
    "- A name for your workspace. You can choose one.\n",
    "- Your workspace region.\n",
    "\n",
    "> For workspace region, we prefer you use `eastus2` or `eastus2euap` (only if you have access to EUAP) for most scenarios. Other supported regions include `westcentralus`, `southeastasia`, `westeurope`, `australiaeast`, although their support might lag behind `eastus2` and `eastus2euap`."
   ]
  },
  {
   "cell_type": "markdown",
   "metadata": {},
   "source": [
    "Let's begin by creating a new resource group in a given region. replace `<workspacename>` with the desired name of your workspace.\n",
    "\n",
    "**Note**: If we provided you with an environment for this lab, we probably already created a resource group for you.  In this case, instead of running the following cell, just copy the name of the resource group from the azure portal"
   ]
  },
  {
   "cell_type": "code",
   "execution_count": null,
   "metadata": {},
   "outputs": [],
   "source": [
    "! az group create -n <GROUP_NAME> -l <GROUP_REGION>"
   ]
  },
  {
   "cell_type": "markdown",
   "metadata": {},
   "source": [
    "Let's suppose we have a python script that stores our subscription ID, resource group, workspace name and region. If no such file exists, we can create one by running the below script, which will output to a file called `./aml_config/mycreds.py`"
   ]
  },
  {
   "cell_type": "code",
   "execution_count": null,
   "metadata": {},
   "outputs": [],
   "source": [
    "!mkdir ../aml_config"
   ]
  },
  {
   "cell_type": "markdown",
   "metadata": {},
   "source": [
    "Please enter you `subscription_id` and `resource_group` below."
   ]
  },
  {
   "cell_type": "code",
   "execution_count": null,
   "metadata": {},
   "outputs": [],
   "source": [
    "%%writefile ../aml_config/mycreds.py\n",
    "subscription_id = ''\n",
    "resource_group =''\n",
    "workspace_name = 'myws'\n",
    "workspace_region = 'westus2'"
   ]
  },
  {
   "cell_type": "markdown",
   "metadata": {},
   "source": [
    "We can now simply run the above script."
   ]
  },
  {
   "cell_type": "code",
   "execution_count": null,
   "metadata": {},
   "outputs": [],
   "source": [
    "%run ../aml_config/mycreds.py"
   ]
  },
  {
   "cell_type": "markdown",
   "metadata": {},
   "source": [
    "Alternatively, we could also create environment variables with this information. If no such variables exist, the snippet below will create them."
   ]
  },
  {
   "cell_type": "code",
   "execution_count": null,
   "metadata": {},
   "outputs": [],
   "source": [
    "%set_env SUBSCRIPTION_ID=$subscription_id\n",
    "%set_env RESOURCE_GROUP=$resource_group\n",
    "%set_env WORKSPACE_NAME=$workspace_name\n",
    "%set_env WORKSPACE_REGION=$workspace_region"
   ]
  },
  {
   "cell_type": "markdown",
   "metadata": {},
   "source": [
    "Let's make sure the environment variables were created for us."
   ]
  },
  {
   "cell_type": "code",
   "execution_count": null,
   "metadata": {},
   "outputs": [],
   "source": [
    "%env"
   ]
  },
  {
   "cell_type": "markdown",
   "metadata": {},
   "source": [
    "## Creating a workspace\n",
    "\n",
    "If we already have access to an AML workspace, we can skip this cell.  Otherwise, this cell will create an AML workspace under the subscription provided (assuming we have the correct permissions for the given subscription ID).\n",
    "\n",
    "This will fail when:\n",
    "1. The workspace already exists\n",
    "2. You do not have permission to create a workspace in the resource group\n",
    "3. You are not a subscription owner or contributor and no Azure ML workspaces have ever been created in this subscription\n",
    "\n",
    "If workspace creation fails for any reason other than already existing, please work with your IT admin to provide you with the appropriate permissions or to provision the required resources.\n",
    "\n",
    "**Note** The workspace creation can take several minutes."
   ]
  },
  {
   "cell_type": "code",
   "execution_count": null,
   "metadata": {},
   "outputs": [],
   "source": [
    "import os\n",
    "\n",
    "subscription_id = os.environ.get(\"SUBSCRIPTION_ID\")\n",
    "resource_group = os.environ.get(\"RESOURCE_GROUP\")\n",
    "workspace_name = os.environ.get(\"WORKSPACE_NAME\")\n",
    "workspace_region = os.environ.get(\"WORKSPACE_REGION\")"
   ]
  },
  {
   "cell_type": "code",
   "execution_count": null,
   "metadata": {},
   "outputs": [],
   "source": [
    "# import the Workspace class and check the azureml SDK version\n",
    "from azureml.core import Workspace, Experiment\n",
    "\n",
    "ws = Workspace.create(name = workspace_name,\n",
    "                      subscription_id = subscription_id,\n",
    "                      resource_group = resource_group, \n",
    "                      location = workspace_region,\n",
    "                      exist_ok = True)\n",
    "ws.get_details()"
   ]
  },
  {
   "cell_type": "markdown",
   "metadata": {},
   "source": [
    "Alternatively, we can also follow the instructions [here](https://docs.microsoft.com/en-us/azure/machine-learning/service/how-to-configure-environment) to create an Azure ML Workspace from the Azure portal."
   ]
  },
  {
   "cell_type": "markdown",
   "metadata": {},
   "source": [
    "Once we have a workspace, we can create a config file for it using `write_config()`."
   ]
  },
  {
   "cell_type": "code",
   "execution_count": null,
   "metadata": {},
   "outputs": [],
   "source": [
    "try:\n",
    "   ws = Workspace(subscription_id = subscription_id, resource_group = resource_group, workspace_name = workspace_name)\n",
    "   ws.write_config('../aml_config/')\n",
    "   print('Library configuration succeeded')\n",
    "except:\n",
    "   print('Workspace not found')"
   ]
  },
  {
   "cell_type": "markdown",
   "metadata": {},
   "source": [
    "If we ran the above code successfully, we should have a new file called `aml_config/config.json`."
   ]
  },
  {
   "cell_type": "code",
   "execution_count": null,
   "metadata": {},
   "outputs": [],
   "source": [
    "!cat ../aml_config/config.json"
   ]
  },
  {
   "cell_type": "markdown",
   "metadata": {},
   "source": [
    "## Configuring your local environment"
   ]
  },
  {
   "cell_type": "markdown",
   "metadata": {},
   "source": [
    "From now on, we can then load the workspace from this config file from any notebook in the current directory by simply running `from_config()`."
   ]
  },
  {
   "cell_type": "code",
   "execution_count": null,
   "metadata": {},
   "outputs": [],
   "source": [
    "# load workspace configuratio from ../aml_config/config.json file.\n",
    "my_workspace = Workspace.from_config('../aml_config/config.json')\n",
    "my_workspace.get_details()"
   ]
  },
  {
   "cell_type": "markdown",
   "metadata": {},
   "source": [
    "## Create an experiment\n",
    "This allows you to track the runs in your workspace. A workspace can have muliple experiments; an experiment must belongn to a workspace."
   ]
  },
  {
   "cell_type": "code",
   "execution_count": null,
   "metadata": {},
   "outputs": [],
   "source": [
    "experiment_name = 'pred-maint-basic'\n",
    "\n",
    "exp = Experiment(workspace=my_workspace, name=experiment_name)"
   ]
  },
  {
   "cell_type": "markdown",
   "metadata": {},
   "source": [
    "# The end"
   ]
  },
  {
   "cell_type": "markdown",
   "metadata": {},
   "source": [
    "Copyright (c) Microsoft Corporation. All rights reserved.\n",
    "\n",
    "Licensed under the MIT License."
   ]
  }
 ],
 "metadata": {
  "kernelspec": {
   "display_name": "Python [conda env:py36]",
   "language": "python",
   "name": "conda-env-py36-py"
  },
  "language_info": {
   "codemirror_mode": {
    "name": "ipython",
    "version": 3
   },
   "file_extension": ".py",
   "mimetype": "text/x-python",
   "name": "python",
   "nbconvert_exporter": "python",
   "pygments_lexer": "ipython3",
   "version": "3.6.6"
  }
 },
 "nbformat": 4,
 "nbformat_minor": 2
}
